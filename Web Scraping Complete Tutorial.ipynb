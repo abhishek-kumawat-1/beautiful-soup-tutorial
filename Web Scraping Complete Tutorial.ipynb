{
 "cells": [
  {
   "cell_type": "markdown",
   "id": "4709f902-95e5-46df-b4b2-71963ecfd74c",
   "metadata": {},
   "source": [
    "The cells below install the required libraries"
   ]
  },
  {
   "cell_type": "code",
   "execution_count": 5,
   "id": "a92e973a-2316-4b4d-be2b-ae7e6356ec19",
   "metadata": {},
   "outputs": [
    {
     "name": "stdout",
     "output_type": "stream",
     "text": [
      "Requirement already satisfied: mamba in c:\\users\\dines\\appdata\\local\\programs\\python\\python311\\lib\\site-packages (0.11.3)\n",
      "Requirement already satisfied: clint in c:\\users\\dines\\appdata\\local\\programs\\python\\python311\\lib\\site-packages (from mamba) (0.5.1)\n",
      "Requirement already satisfied: coverage in c:\\users\\dines\\appdata\\local\\programs\\python\\python311\\lib\\site-packages (from mamba) (7.5.1)\n",
      "Requirement already satisfied: args in c:\\users\\dines\\appdata\\local\\programs\\python\\python311\\lib\\site-packages (from clint->mamba) (0.1.0)\n",
      "\n",
      "\n",
      "0 examples ran in 0.0000 seconds\n"
     ]
    }
   ],
   "source": [
    "!pip install mamba\n",
    "!mamba install bs4==4.10.0 "
   ]
  },
  {
   "cell_type": "code",
   "execution_count": 4,
   "id": "e66fb0b3-0926-4c1c-abf3-9926f5e2cc6d",
   "metadata": {},
   "outputs": [],
   "source": [
    "from bs4 import BeautifulSoup # Helps in web scrapping.\n",
    "import requests  # Helps us to download a web page"
   ]
  },
  {
   "cell_type": "markdown",
   "id": "69d7b49d-a10e-4469-a99b-fab0fdd1ee80",
   "metadata": {},
   "source": [
    "# Beautiful Soup Objects"
   ]
  },
  {
   "cell_type": "markdown",
   "id": "f1365007-4838-4a2b-9b4f-41382556df27",
   "metadata": {},
   "source": [
    "Beautiful Soup is a Python library for pulling data out of HTML and XML files, we will focus on HTML files. This is accomplished by representing the HTML as a set of objects with methods used to parse the HTML. We can navigate the HTML as a tree and/or filter out what we are looking for.\n",
    "\n",
    "Consider the following HTML:"
   ]
  },
  {
   "cell_type": "code",
   "execution_count": 17,
   "id": "fb3054f1-6d0f-4fa9-9e65-55154786f152",
   "metadata": {},
   "outputs": [
    {
     "data": {
      "text/html": [
       "<!DOCTYPE html>\n",
       "<html>\n",
       "<head>\n",
       "<title>Page Title</title>\n",
       "</head>\n",
       "<body>\n",
       "<h3><b id='boldest'>Abhishek</b></h3>\n",
       "<p> Salary: $ 94,000,000 </p>\n",
       "<h3> Akash</h3>\n",
       "<p> Salary: $89,000,000 </p>\n",
       "<h3> Mohini </h3>\n",
       "<p> Salary: $73,200,000</p>\n",
       "</body>\n",
       "</html>\n"
      ],
      "text/plain": [
       "<IPython.core.display.HTML object>"
      ]
     },
     "metadata": {},
     "output_type": "display_data"
    }
   ],
   "source": [
    "%%html\n",
    "<!DOCTYPE html>\n",
    "<html>\n",
    "<head>\n",
    "<title>Page Title</title>\n",
    "</head>\n",
    "<body>\n",
    "<h3><b id='boldest'>Abhishek</b></h3>\n",
    "<p> Salary: $ 94,000,000 </p>\n",
    "<h3> Akash</h3>\n",
    "<p> Salary: $89,000,000 </p>\n",
    "<h3> Mohini </h3>\n",
    "<p> Salary: $73,200,000</p>\n",
    "</body>\n",
    "</html>"
   ]
  },
  {
   "cell_type": "markdown",
   "id": "b59dd5a0-cb83-40f0-b4f0-c9da3ff2718c",
   "metadata": {},
   "source": [
    "We can store it as a string in the variable HTML:\r\n"
   ]
  },
  {
   "cell_type": "code",
   "execution_count": 20,
   "id": "550a4fbe-084b-4781-8f73-59e3ab3f58e0",
   "metadata": {},
   "outputs": [],
   "source": [
    "html=\"<!DOCTYPE html><html><head><title>Page Title</title></head><body><h3><b id='boldest'>Abhishek</b></h3><p> Salary: $ 94,000,000 </p><h3>Akash</h3><p> Salary: $89,000, 000 </p><h3> Mohini </h3><p> Salary: $73,200, 000</p></body></html>\""
   ]
  },
  {
   "cell_type": "markdown",
   "id": "a6fee23f-50b5-4b82-b869-2084cd7378f5",
   "metadata": {},
   "source": [
    "To parse a document, pass it into the <code>BeautifulSoup</code> constructor, the <code>BeautifulSoup</code> object, which represents the document as a nested data structure:\r\n"
   ]
  },
  {
   "cell_type": "code",
   "execution_count": 21,
   "id": "db16efd2-0b3c-48aa-aca7-a9ec09eaa45d",
   "metadata": {},
   "outputs": [],
   "source": [
    "soup=BeautifulSoup(html,\"html.parser\")"
   ]
  },
  {
   "cell_type": "markdown",
   "id": "88ae238e-902c-4cd6-8145-8220ac2639ae",
   "metadata": {},
   "source": [
    "First, the document is converted to Unicode, (similar to ASCII),  and HTML entities are converted to Unicode characters. Beautiful Soup transforms a complex HTML document into a complex tree of Python objects. The <code>BeautifulSoup</code> object can create other types of objects."
   ]
  },
  {
   "cell_type": "markdown",
   "id": "5337eaca-c926-4916-9b55-39d15151e972",
   "metadata": {},
   "source": [
    "We can use the method <code>prettify()</code> to display the HTML in the nested structure:\r\n"
   ]
  },
  {
   "cell_type": "code",
   "execution_count": 22,
   "id": "b7233a28-aba0-4db2-bce3-a6381234fd7e",
   "metadata": {},
   "outputs": [
    {
     "name": "stdout",
     "output_type": "stream",
     "text": [
      "<!DOCTYPE html>\n",
      "<html>\n",
      " <head>\n",
      "  <title>\n",
      "   Page Title\n",
      "  </title>\n",
      " </head>\n",
      " <body>\n",
      "  <h3>\n",
      "   <b id=\"boldest\">\n",
      "    Abhishek\n",
      "   </b>\n",
      "  </h3>\n",
      "  <p>\n",
      "   Salary: $ 94,000,000\n",
      "  </p>\n",
      "  <h3>\n",
      "   Akash\n",
      "  </h3>\n",
      "  <p>\n",
      "   Salary: $89,000, 000\n",
      "  </p>\n",
      "  <h3>\n",
      "   Mohini\n",
      "  </h3>\n",
      "  <p>\n",
      "   Salary: $73,200, 000\n",
      "  </p>\n",
      " </body>\n",
      "</html>\n",
      "\n"
     ]
    }
   ],
   "source": [
    "print(soup.prettify())"
   ]
  },
  {
   "cell_type": "markdown",
   "id": "d22ffb81-1cf4-46c5-8f55-020a9086c13c",
   "metadata": {},
   "source": [
    "# Tags"
   ]
  },
  {
   "cell_type": "markdown",
   "id": "7332eba5-5328-4ca5-9473-1f614d910b23",
   "metadata": {},
   "source": [
    "Let's say we want the  title of the page and the name of the top paid player we can use the <code>Tag</code>. The <code>Tag</code> object corresponds to an HTML tag in the original document, for example, the tag title.\r\n"
   ]
  },
  {
   "cell_type": "code",
   "execution_count": 23,
   "id": "a35c3989-904f-44c8-80b7-5cd219cf9254",
   "metadata": {},
   "outputs": [
    {
     "name": "stdout",
     "output_type": "stream",
     "text": [
      "tag_object: <title>Page Title</title>\n"
     ]
    }
   ],
   "source": [
    "tag_object=soup.title\n",
    "print(\"tag_object:\",tag_object)"
   ]
  },
  {
   "cell_type": "markdown",
   "id": "f1e0bbb4-afa5-4dac-b97e-ac1c967b79ed",
   "metadata": {},
   "source": [
    "we can see the tag type <code>bs4.element.Tag</code>\r\n"
   ]
  },
  {
   "cell_type": "code",
   "execution_count": 24,
   "id": "c34f0649-ae0a-4d01-8c82-b75648990d25",
   "metadata": {},
   "outputs": [
    {
     "name": "stdout",
     "output_type": "stream",
     "text": [
      "tag object type: <class 'bs4.element.Tag'>\n"
     ]
    }
   ],
   "source": [
    "print(\"tag object type:\",type(tag_object))"
   ]
  },
  {
   "cell_type": "markdown",
   "id": "4afcc557-3ec8-49ec-97fa-983d4d330d2f",
   "metadata": {},
   "source": [
    "If there is more than one <code>Tag</code>  with the same name, the first element with that <code>Tag</code> name is called, this corresponds to the most paid player:\r\n"
   ]
  },
  {
   "cell_type": "code",
   "execution_count": 25,
   "id": "3322b46a-157a-4461-85c2-f5c6e41f96db",
   "metadata": {},
   "outputs": [
    {
     "data": {
      "text/plain": [
       "<h3><b id=\"boldest\">Abhishek</b></h3>"
      ]
     },
     "execution_count": 25,
     "metadata": {},
     "output_type": "execute_result"
    }
   ],
   "source": [
    "tag_object=soup.h3\n",
    "tag_object"
   ]
  },
  {
   "cell_type": "markdown",
   "id": "a15d193b-94d7-49c7-bf1d-4732aa7e8cf3",
   "metadata": {},
   "source": [
    "Enclosed in the bold attribute <code>b</code>, it helps to use the tree representation. We can navigate down the tree using the child attribute to get the name.\r\n"
   ]
  },
  {
   "cell_type": "markdown",
   "id": "0b1bc347-9c77-4a37-8042-0ecf736a0321",
   "metadata": {},
   "source": [
    "# Children, Parents, and Siblings"
   ]
  },
  {
   "cell_type": "code",
   "execution_count": 26,
   "id": "4db421be-d3fe-4c1b-bff8-8ddfceaa8059",
   "metadata": {},
   "outputs": [
    {
     "data": {
      "text/plain": [
       "<b id=\"boldest\">Abhishek</b>"
      ]
     },
     "execution_count": 26,
     "metadata": {},
     "output_type": "execute_result"
    }
   ],
   "source": [
    "tag_child=tag_object.b\n",
    "tag_child"
   ]
  },
  {
   "cell_type": "code",
   "execution_count": 28,
   "id": "93d6e779-51ec-488f-bdad-7f39fe061bbd",
   "metadata": {},
   "outputs": [
    {
     "data": {
      "text/plain": [
       "<h3><b id=\"boldest\">Abhishek</b></h3>"
      ]
     },
     "execution_count": 28,
     "metadata": {},
     "output_type": "execute_result"
    }
   ],
   "source": [
    "tag_parent=tag_child.parent\n",
    "tag_parent"
   ]
  },
  {
   "cell_type": "code",
   "execution_count": 29,
   "id": "21eadca7-8b4b-45e8-9e72-1dfadd1682d4",
   "metadata": {},
   "outputs": [
    {
     "data": {
      "text/plain": [
       "<p> Salary: $ 94,000,000 </p>"
      ]
     },
     "execution_count": 29,
     "metadata": {},
     "output_type": "execute_result"
    }
   ],
   "source": [
    "sibling_1=tag_object.next_sibling\n",
    "sibling_1"
   ]
  },
  {
   "cell_type": "markdown",
   "id": "a8ac2069-a901-44e8-a5ee-979bfe1d8272",
   "metadata": {},
   "source": [
    "# HTML Attributes"
   ]
  },
  {
   "cell_type": "markdown",
   "id": "eec24882-bdb5-4b2b-bafe-9af282b36777",
   "metadata": {},
   "source": [
    "If the tag has attributes, the tag <code>id=\"boldest\"</code> has an attribute <code>id</code> whose value is <code>boldest</code>. You can access a tag’s attributes by treating the tag like a dictionary:\r\n"
   ]
  },
  {
   "cell_type": "code",
   "execution_count": 30,
   "id": "063f69f5-63d6-4ddc-a1d4-17f97bd20960",
   "metadata": {},
   "outputs": [
    {
     "data": {
      "text/plain": [
       "'boldest'"
      ]
     },
     "execution_count": 30,
     "metadata": {},
     "output_type": "execute_result"
    }
   ],
   "source": [
    "tag_child['id']"
   ]
  },
  {
   "cell_type": "code",
   "execution_count": 31,
   "id": "384dc7c9-8f4d-4f63-a77c-0ab7beb09208",
   "metadata": {},
   "outputs": [
    {
     "data": {
      "text/plain": [
       "{'id': 'boldest'}"
      ]
     },
     "execution_count": 31,
     "metadata": {},
     "output_type": "execute_result"
    }
   ],
   "source": [
    "tag_child.attrs #The dictionary can be accessed directly as attrs:"
   ]
  },
  {
   "cell_type": "code",
   "execution_count": 32,
   "id": "2bdbe0dd-9d9b-4f0b-b12c-fb742d7f174e",
   "metadata": {},
   "outputs": [
    {
     "data": {
      "text/plain": [
       "'boldest'"
      ]
     },
     "execution_count": 32,
     "metadata": {},
     "output_type": "execute_result"
    }
   ],
   "source": [
    " tag_child.get('id')"
   ]
  },
  {
   "cell_type": "markdown",
   "id": "db67af25-e934-4e6a-8387-6630576a71e6",
   "metadata": {},
   "source": [
    "A string corresponds to a bit of text or content within a tag. Beautiful Soup uses the <code>NavigableString</code> class to contain this text. In our HTML we can obtain the name of the first player by extracting the string of the <code>Tag</code> object <code>tag_child</code> as follows:\r\n"
   ]
  },
  {
   "cell_type": "code",
   "execution_count": 33,
   "id": "af5ad183-b8ae-4de5-9ea5-4c3ed39f9fc4",
   "metadata": {},
   "outputs": [
    {
     "data": {
      "text/plain": [
       "'Abhishek'"
      ]
     },
     "execution_count": 33,
     "metadata": {},
     "output_type": "execute_result"
    }
   ],
   "source": [
    "tag_string=tag_child.string\n",
    "tag_string"
   ]
  },
  {
   "cell_type": "code",
   "execution_count": 34,
   "id": "9af71d07-f797-4608-a3f7-6eed0fc0aa61",
   "metadata": {},
   "outputs": [
    {
     "data": {
      "text/plain": [
       "bs4.element.NavigableString"
      ]
     },
     "execution_count": 34,
     "metadata": {},
     "output_type": "execute_result"
    }
   ],
   "source": [
    "type(tag_string)"
   ]
  },
  {
   "cell_type": "markdown",
   "id": "8b275ac5-14aa-4810-9a17-a2cf199721f1",
   "metadata": {},
   "source": [
    "A NavigableString is just like a Python string or Unicode string, to be more precise. The main difference is that it also supports some  <code>BeautifulSoup</code> features. We can covert it to sting object in Python:\r\n"
   ]
  },
  {
   "cell_type": "code",
   "execution_count": 35,
   "id": "0213ff0e-7d43-44ef-9ce2-5398a855515c",
   "metadata": {},
   "outputs": [
    {
     "data": {
      "text/plain": [
       "'Abhishek'"
      ]
     },
     "execution_count": 35,
     "metadata": {},
     "output_type": "execute_result"
    }
   ],
   "source": [
    "unicode_string=str(tag_string)\n",
    "unicode_string"
   ]
  },
  {
   "cell_type": "markdown",
   "id": "df16ec80-455e-459f-8cfc-284a82099b1d",
   "metadata": {},
   "source": [
    "# Filter"
   ]
  },
  {
   "cell_type": "markdown",
   "id": "7d968eaf-c0ca-4dfc-bde7-f072ebe78a7a",
   "metadata": {},
   "source": [
    "Filters allow you to find complex patterns, the simplest filter is a string. In this section we will pass a string to a different filter method and Beautiful Soup will perform a match against that exact string.  Consider the following HTML of rocket launchs:\r\n"
   ]
  },
  {
   "cell_type": "code",
   "execution_count": 36,
   "id": "8d631d00-d429-45b4-9b3e-6ad0249610a7",
   "metadata": {},
   "outputs": [
    {
     "data": {
      "text/html": [
       "<table>\n",
       "  <tr>\n",
       "    <td id='flight' >Flight No</td>\n",
       "    <td>Launch site</td> \n",
       "    <td>Payload mass</td>\n",
       "   </tr>\n",
       "  <tr> \n",
       "    <td>1</td>\n",
       "    <td><a href='https://en.wikipedia.org/wiki/Florida'>Florida</a></td>\n",
       "    <td>300 kg</td>\n",
       "  </tr>\n",
       "  <tr>\n",
       "    <td>2</td>\n",
       "    <td><a href='https://en.wikipedia.org/wiki/Texas'>Texas</a></td>\n",
       "    <td>94 kg</td>\n",
       "  </tr>\n",
       "  <tr>\n",
       "    <td>3</td>\n",
       "    <td><a href='https://en.wikipedia.org/wiki/Florida'>Florida</a> </td>\n",
       "    <td>80 kg</td>\n",
       "  </tr>\n",
       "</table>\n"
      ],
      "text/plain": [
       "<IPython.core.display.HTML object>"
      ]
     },
     "metadata": {},
     "output_type": "display_data"
    }
   ],
   "source": [
    "%%html\n",
    "<table>\n",
    "  <tr>\n",
    "    <td id='flight' >Flight No</td>\n",
    "    <td>Launch site</td> \n",
    "    <td>Payload mass</td>\n",
    "   </tr>\n",
    "  <tr> \n",
    "    <td>1</td>\n",
    "    <td><a href='https://en.wikipedia.org/wiki/Florida'>Florida</a></td>\n",
    "    <td>300 kg</td>\n",
    "  </tr>\n",
    "  <tr>\n",
    "    <td>2</td>\n",
    "    <td><a href='https://en.wikipedia.org/wiki/Texas'>Texas</a></td>\n",
    "    <td>94 kg</td>\n",
    "  </tr>\n",
    "  <tr>\n",
    "    <td>3</td>\n",
    "    <td><a href='https://en.wikipedia.org/wiki/Florida'>Florida</a> </td>\n",
    "    <td>80 kg</td>\n",
    "  </tr>\n",
    "</table>"
   ]
  },
  {
   "cell_type": "code",
   "execution_count": 39,
   "id": "01779c92-ee20-4749-9c7a-22d62b2e5323",
   "metadata": {},
   "outputs": [],
   "source": [
    "table=\"<table><tr><td id='flight' >Flight No</td><td>Launch site</td><td>Payload mass</td></tr><tr><td>1</td><td><a href='https://en.wikipedia.org/wiki/Florida'>Florida</a></td><td>300 kg</td></tr><tr><td>2</td><td><a href='https://en.wikipedia.org/wiki/Texas'>Texas</a></td><td>94 kg</td></tr><tr><td>3</td><td><a href='https://en.wikipedia.org/wiki/Florida'>Florida</a> </td><td>80 kg</td></tr></table>\""
   ]
  },
  {
   "cell_type": "code",
   "execution_count": 40,
   "id": "642379b1-0bef-4b73-8046-a12df5a29c9d",
   "metadata": {},
   "outputs": [],
   "source": [
    "table_soup=BeautifulSoup(table,\"html.parser\")"
   ]
  },
  {
   "cell_type": "markdown",
   "id": "81d66ccd-9c6c-42e7-a38f-0f12f7a72646",
   "metadata": {},
   "source": [
    "## find All\n",
    "\n",
    "The Method signature for <code>find_all(name, attrs, recursive, string, limit, **kwargs)<c/ode>\n",
    "\n",
    "When we set the <code>name</code> parameter to a tag name, the method will extract all the tags with that name and its children.\r\n"
   ]
  },
  {
   "cell_type": "code",
   "execution_count": 41,
   "id": "2a399feb-31b9-4de3-a671-03c99ce3c31b",
   "metadata": {},
   "outputs": [
    {
     "data": {
      "text/plain": [
       "[<tr><td id=\"flight\">Flight No</td><td>Launch site</td><td>Payload mass</td></tr>,\n",
       " <tr><td>1</td><td><a href=\"https://en.wikipedia.org/wiki/Florida\">Florida</a></td><td>300 kg</td></tr>,\n",
       " <tr><td>2</td><td><a href=\"https://en.wikipedia.org/wiki/Texas\">Texas</a></td><td>94 kg</td></tr>,\n",
       " <tr><td>3</td><td><a href=\"https://en.wikipedia.org/wiki/Florida\">Florida</a> </td><td>80 kg</td></tr>]"
      ]
     },
     "execution_count": 41,
     "metadata": {},
     "output_type": "execute_result"
    }
   ],
   "source": [
    "table_rows=table_soup.find_all('tr')\n",
    "table_rows"
   ]
  },
  {
   "cell_type": "markdown",
   "id": "6f1a16c7-9129-42e0-baf4-fb424ec700fc",
   "metadata": {},
   "source": [
    "The result is a Python Iterable just like a list, each element is a <code>tag</code> object:\r\n"
   ]
  },
  {
   "cell_type": "code",
   "execution_count": 43,
   "id": "96a75d8e-336b-4ad1-b2f0-c05f622539fd",
   "metadata": {},
   "outputs": [
    {
     "data": {
      "text/plain": [
       "<tr><td id=\"flight\">Flight No</td><td>Launch site</td><td>Payload mass</td></tr>"
      ]
     },
     "execution_count": 43,
     "metadata": {},
     "output_type": "execute_result"
    }
   ],
   "source": [
    "first_row=table_rows[0]\n",
    "first_row"
   ]
  },
  {
   "cell_type": "code",
   "execution_count": 44,
   "id": "1d500944-3e9e-447d-a37d-fe2a84981a0f",
   "metadata": {},
   "outputs": [
    {
     "name": "stdout",
     "output_type": "stream",
     "text": [
      "<class 'bs4.element.Tag'>\n"
     ]
    }
   ],
   "source": [
    "print(type(first_row))"
   ]
  },
  {
   "cell_type": "code",
   "execution_count": 45,
   "id": "0efcb5c6-8e6d-4dfa-a7ae-d74eae3c424f",
   "metadata": {},
   "outputs": [
    {
     "data": {
      "text/plain": [
       "<td id=\"flight\">Flight No</td>"
      ]
     },
     "execution_count": 45,
     "metadata": {},
     "output_type": "execute_result"
    }
   ],
   "source": [
    "first_row.td"
   ]
  },
  {
   "cell_type": "markdown",
   "id": "f2363286-d7a0-428b-a402-3a558d12c3f6",
   "metadata": {},
   "source": [
    "If we iterate through the list, each element corresponds to a row in the table:\r\n"
   ]
  },
  {
   "cell_type": "code",
   "execution_count": 46,
   "id": "a913c88d-4571-445b-b6ce-a64b1a1f669b",
   "metadata": {},
   "outputs": [
    {
     "name": "stdout",
     "output_type": "stream",
     "text": [
      "row 0 is <tr><td id=\"flight\">Flight No</td><td>Launch site</td><td>Payload mass</td></tr>\n",
      "row 1 is <tr><td>1</td><td><a href=\"https://en.wikipedia.org/wiki/Florida\">Florida</a></td><td>300 kg</td></tr>\n",
      "row 2 is <tr><td>2</td><td><a href=\"https://en.wikipedia.org/wiki/Texas\">Texas</a></td><td>94 kg</td></tr>\n",
      "row 3 is <tr><td>3</td><td><a href=\"https://en.wikipedia.org/wiki/Florida\">Florida</a> </td><td>80 kg</td></tr>\n"
     ]
    }
   ],
   "source": [
    "for i,row in enumerate(table_rows):\n",
    "    print(\"row\",i,\"is\",row)\n",
    "    "
   ]
  },
  {
   "cell_type": "code",
   "execution_count": 48,
   "id": "7409e39e-2fda-46c2-957f-4aefe303021f",
   "metadata": {},
   "outputs": [
    {
     "name": "stdout",
     "output_type": "stream",
     "text": [
      "row 0\n",
      "column 0 cell <td id=\"flight\">Flight No</td>\n",
      "column 1 cell <td>Launch site</td>\n",
      "column 2 cell <td>Payload mass</td>\n",
      "row 1\n",
      "column 0 cell <td>1</td>\n",
      "column 1 cell <td><a href=\"https://en.wikipedia.org/wiki/Florida\">Florida</a></td>\n",
      "column 2 cell <td>300 kg</td>\n",
      "row 2\n",
      "column 0 cell <td>2</td>\n",
      "column 1 cell <td><a href=\"https://en.wikipedia.org/wiki/Texas\">Texas</a></td>\n",
      "column 2 cell <td>94 kg</td>\n",
      "row 3\n",
      "column 0 cell <td>3</td>\n",
      "column 1 cell <td><a href=\"https://en.wikipedia.org/wiki/Florida\">Florida</a> </td>\n",
      "column 2 cell <td>80 kg</td>\n"
     ]
    }
   ],
   "source": [
    "for i, row in enumerate(table_rows):\n",
    "    print(\"row\",i)\n",
    "    cells=row.find_all('td')\n",
    "    for j,cell in enumerate(cells):\n",
    "        print('column',j,\"cell\",cell)"
   ]
  },
  {
   "cell_type": "markdown",
   "id": "70ad1511-d296-46c1-9412-0db0ee1fa850",
   "metadata": {},
   "source": [
    "If we use a list we can match against any item in that list.\r\n"
   ]
  },
  {
   "cell_type": "code",
   "execution_count": 49,
   "id": "bdc0b033-7d96-4566-b4a7-ccc628e55972",
   "metadata": {},
   "outputs": [
    {
     "data": {
      "text/plain": [
       "[<tr><td id=\"flight\">Flight No</td><td>Launch site</td><td>Payload mass</td></tr>,\n",
       " <td id=\"flight\">Flight No</td>,\n",
       " <td>Launch site</td>,\n",
       " <td>Payload mass</td>,\n",
       " <tr><td>1</td><td><a href=\"https://en.wikipedia.org/wiki/Florida\">Florida</a></td><td>300 kg</td></tr>,\n",
       " <td>1</td>,\n",
       " <td><a href=\"https://en.wikipedia.org/wiki/Florida\">Florida</a></td>,\n",
       " <td>300 kg</td>,\n",
       " <tr><td>2</td><td><a href=\"https://en.wikipedia.org/wiki/Texas\">Texas</a></td><td>94 kg</td></tr>,\n",
       " <td>2</td>,\n",
       " <td><a href=\"https://en.wikipedia.org/wiki/Texas\">Texas</a></td>,\n",
       " <td>94 kg</td>,\n",
       " <tr><td>3</td><td><a href=\"https://en.wikipedia.org/wiki/Florida\">Florida</a> </td><td>80 kg</td></tr>,\n",
       " <td>3</td>,\n",
       " <td><a href=\"https://en.wikipedia.org/wiki/Florida\">Florida</a> </td>,\n",
       " <td>80 kg</td>]"
      ]
     },
     "execution_count": 49,
     "metadata": {},
     "output_type": "execute_result"
    }
   ],
   "source": [
    "list_input=table_soup.find_all(name=['tr','td'])\n",
    "list_input"
   ]
  },
  {
   "cell_type": "markdown",
   "id": "6868c85d-5262-475d-bfcd-864f34869e9e",
   "metadata": {},
   "source": [
    "# string\n",
    "With string you can search for strings instead of tags, where we find all the elments with Florida:\r\n"
   ]
  },
  {
   "cell_type": "code",
   "execution_count": 50,
   "id": "0a43105b-42f3-4561-9611-56add58dd1c5",
   "metadata": {},
   "outputs": [
    {
     "data": {
      "text/plain": [
       "['Florida', 'Florida']"
      ]
     },
     "execution_count": 50,
     "metadata": {},
     "output_type": "execute_result"
    }
   ],
   "source": [
    "table_soup.find_all(string=\"Florida\")"
   ]
  },
  {
   "cell_type": "markdown",
   "id": "6c464fef-d954-4053-86fb-11a9c18c8d09",
   "metadata": {},
   "source": [
    "# Downloading and Scraping The Contents of a Web Page"
   ]
  },
  {
   "cell_type": "code",
   "execution_count": 61,
   "id": "ab91c0d8-4359-4679-b2d2-541096e87a5c",
   "metadata": {},
   "outputs": [],
   "source": [
    "url=\"https://www.ibm.com\""
   ]
  },
  {
   "cell_type": "code",
   "execution_count": 62,
   "id": "b68fc36a-c906-4f46-acab-4379c68b8734",
   "metadata": {},
   "outputs": [],
   "source": [
    "data=requests.get(url).text"
   ]
  },
  {
   "cell_type": "code",
   "execution_count": 63,
   "id": "988dae03-a360-4f36-9b9c-c4ae16c9c145",
   "metadata": {},
   "outputs": [],
   "source": [
    "soup=BeautifulSoup(data,\"html.parser\")"
   ]
  },
  {
   "cell_type": "code",
   "execution_count": 64,
   "id": "a20ecda6-804b-4806-b0e3-16c8ca2e51fd",
   "metadata": {},
   "outputs": [
    {
     "name": "stdout",
     "output_type": "stream",
     "text": [
      "https://www.ibm.com/cloud?lnk=intro\n"
     ]
    }
   ],
   "source": [
    "# Scrape all links\n",
    "for link in soup.find_all('a',href=True):\n",
    "    print(link.get('href'))"
   ]
  },
  {
   "cell_type": "code",
   "execution_count": 65,
   "id": "bd651bf1-d467-4f4f-8b09-8f78edc20ef2",
   "metadata": {},
   "outputs": [
    {
     "name": "stdout",
     "output_type": "stream",
     "text": [
      "<img alt=\"Portraits of IBM consultants\" class=\"bx--image__img\" id=\"image--235469917\" loading=\"lazy\" src=\"/content/dam/adobe-cms/default-images/home-consultants.component.crop-16by9-xl.ts=1695214867398.jpg/content/adobe-cms/in/en/homepage/_jcr_content/root/table_of_contents/simple_image\"/>\n",
      "/content/dam/adobe-cms/default-images/home-consultants.component.crop-16by9-xl.ts=1695214867398.jpg/content/adobe-cms/in/en/homepage/_jcr_content/root/table_of_contents/simple_image\n"
     ]
    }
   ],
   "source": [
    "#Scrape all images\n",
    "for link in soup.find_all('img'):\n",
    "    print(link)\n",
    "    print(link.get('src'))"
   ]
  },
  {
   "cell_type": "markdown",
   "id": "848e51f7-9efa-4379-99ee-586493e23ddb",
   "metadata": {},
   "source": [
    "# Scrape data from HTML tables"
   ]
  },
  {
   "cell_type": "code",
   "execution_count": 66,
   "id": "632bad70-a6ef-40a9-a672-90b08c7d2314",
   "metadata": {},
   "outputs": [],
   "source": [
    "#The below url contains an html table with data about colors and color codes.\n",
    "url = \"https://cf-courses-data.s3.us.cloud-object-storage.appdomain.cloud/IBM-DA0321EN-SkillsNetwork/labs/datasets/HTMLColorCodes.html\""
   ]
  },
  {
   "cell_type": "code",
   "execution_count": 67,
   "id": "657a7eb4-b8e6-4f01-a108-263c8dfacd3a",
   "metadata": {},
   "outputs": [],
   "source": [
    "data=requests.get(url).text"
   ]
  },
  {
   "cell_type": "code",
   "execution_count": 68,
   "id": "49d3d1ba-3b63-4759-9bf8-5f0bc156a8f9",
   "metadata": {},
   "outputs": [],
   "source": [
    "soup=BeautifulSoup(data,\"html.parser\")"
   ]
  },
  {
   "cell_type": "code",
   "execution_count": 69,
   "id": "acf0c8c3-49cc-46f8-aed7-b0110763862a",
   "metadata": {},
   "outputs": [],
   "source": [
    "table=soup.find('table')"
   ]
  },
  {
   "cell_type": "code",
   "execution_count": 70,
   "id": "610e601b-6313-4217-a134-c732a9efdc24",
   "metadata": {},
   "outputs": [
    {
     "name": "stdout",
     "output_type": "stream",
     "text": [
      "Color Name--->None\n",
      "lightsalmon--->#FFA07A\n",
      "salmon--->#FA8072\n",
      "darksalmon--->#E9967A\n",
      "lightcoral--->#F08080\n",
      "coral--->#FF7F50\n",
      "tomato--->#FF6347\n",
      "orangered--->#FF4500\n",
      "gold--->#FFD700\n",
      "orange--->#FFA500\n",
      "darkorange--->#FF8C00\n",
      "lightyellow--->#FFFFE0\n",
      "lemonchiffon--->#FFFACD\n",
      "papayawhip--->#FFEFD5\n",
      "moccasin--->#FFE4B5\n",
      "peachpuff--->#FFDAB9\n",
      "palegoldenrod--->#EEE8AA\n",
      "khaki--->#F0E68C\n",
      "darkkhaki--->#BDB76B\n",
      "yellow--->#FFFF00\n",
      "lawngreen--->#7CFC00\n",
      "chartreuse--->#7FFF00\n",
      "limegreen--->#32CD32\n",
      "lime--->#00FF00\n",
      "forestgreen--->#228B22\n",
      "green--->#008000\n",
      "powderblue--->#B0E0E6\n",
      "lightblue--->#ADD8E6\n",
      "lightskyblue--->#87CEFA\n",
      "skyblue--->#87CEEB\n",
      "deepskyblue--->#00BFFF\n",
      "lightsteelblue--->#B0C4DE\n",
      "dodgerblue--->#1E90FF\n"
     ]
    }
   ],
   "source": [
    "for row in table.find_all('tr'):\n",
    "    cols=row.find_all('td')\n",
    "    color_name=cols[2].string\n",
    "    color_code=cols[3].string\n",
    "    print(\"{}--->{}\".format(color_name,color_code))"
   ]
  },
  {
   "cell_type": "markdown",
   "id": "0ea75eeb-9c33-4e98-9694-a17120a6456d",
   "metadata": {},
   "source": [
    "# Scrape data from HTML tables into a DataFrame using BeautifulSoup and Pandas"
   ]
  },
  {
   "cell_type": "code",
   "execution_count": 71,
   "id": "7c41913d-d86e-4792-b7d2-1073100b92e8",
   "metadata": {},
   "outputs": [],
   "source": [
    "import pandas as pd"
   ]
  },
  {
   "cell_type": "code",
   "execution_count": 72,
   "id": "4e386e11-c5f7-4dcc-b00b-bd146164275f",
   "metadata": {},
   "outputs": [],
   "source": [
    "#The below url contains html tables with data about world population.\n",
    "url = \"https://en.wikipedia.org/wiki/World_population\""
   ]
  },
  {
   "cell_type": "code",
   "execution_count": 73,
   "id": "6fd5c940-dd02-4a0e-a318-7c8517a80906",
   "metadata": {},
   "outputs": [],
   "source": [
    "data=requests.get(url).text"
   ]
  },
  {
   "cell_type": "code",
   "execution_count": 75,
   "id": "40441a65-99c8-4e39-8d95-2b705f237740",
   "metadata": {},
   "outputs": [],
   "source": [
    "soup=BeautifulSoup(data,\"html.parser\")"
   ]
  },
  {
   "cell_type": "code",
   "execution_count": 76,
   "id": "b0565837-51eb-481f-a9e3-eccee2182493",
   "metadata": {},
   "outputs": [],
   "source": [
    "tables=soup.find_all('table')"
   ]
  },
  {
   "cell_type": "code",
   "execution_count": 77,
   "id": "78ad686b-514c-4153-af74-51ec6c5b0b23",
   "metadata": {},
   "outputs": [
    {
     "data": {
      "text/plain": [
       "30"
      ]
     },
     "execution_count": 77,
     "metadata": {},
     "output_type": "execute_result"
    }
   ],
   "source": [
    "len(tables)"
   ]
  },
  {
   "cell_type": "markdown",
   "id": "8f6810dd-ef71-48a0-bb80-7a3efcc46a84",
   "metadata": {},
   "source": [
    "Assume that we are looking for the `10 most densly populated countries` table, we can look through the tables list and find the right one we are look for based on the data in each table or we can search for the table name if it is in the table but this option might not always work.\r\n"
   ]
  },
  {
   "cell_type": "code",
   "execution_count": 79,
   "id": "5d062a3b-9902-4784-b970-af3c353ac311",
   "metadata": {},
   "outputs": [
    {
     "name": "stdout",
     "output_type": "stream",
     "text": [
      "7\n"
     ]
    }
   ],
   "source": [
    "for index,table in enumerate(tables):\n",
    "    if (\"10 most densely populated countries\" in str(table)):\n",
    "        table_index = index\n",
    "print(table_index)"
   ]
  },
  {
   "cell_type": "markdown",
   "id": "098c8654-1d37-44b1-a012-25eb9f5aa61b",
   "metadata": {},
   "source": [
    "See if you can locate the table name of the table, `10 most densly populated countries`, below.\r\n"
   ]
  },
  {
   "cell_type": "code",
   "execution_count": 80,
   "id": "e63b6aa0-49fe-4cb9-b5e6-c92ced4cbf6f",
   "metadata": {},
   "outputs": [
    {
     "name": "stdout",
     "output_type": "stream",
     "text": [
      "<table class=\"wikitable sortable\" style=\"text-align:right\">\n",
      " <caption>\n",
      "  10 most densely populated countries\n",
      "  <small>\n",
      "   (with population above 5 million)\n",
      "  </small>\n",
      "  <sup class=\"reference\" id=\"cite_ref-:10_106-0\">\n",
      "   <a href=\"#cite_note-:10-106\">\n",
      "    [101]\n",
      "   </a>\n",
      "  </sup>\n",
      " </caption>\n",
      " <tbody>\n",
      "  <tr>\n",
      "   <th scope=\"col\">\n",
      "    Rank\n",
      "   </th>\n",
      "   <th scope=\"col\">\n",
      "    Country\n",
      "   </th>\n",
      "   <th scope=\"col\">\n",
      "    Population\n",
      "   </th>\n",
      "   <th scope=\"col\">\n",
      "    Area\n",
      "    <br/>\n",
      "    <small>\n",
      "     (km\n",
      "     <sup>\n",
      "      2\n",
      "     </sup>\n",
      "     )\n",
      "    </small>\n",
      "   </th>\n",
      "   <th scope=\"col\">\n",
      "    Density\n",
      "    <br/>\n",
      "    <small>\n",
      "     (pop/km\n",
      "     <sup>\n",
      "      2\n",
      "     </sup>\n",
      "     )\n",
      "    </small>\n",
      "   </th>\n",
      "  </tr>\n",
      "  <tr>\n",
      "   <td>\n",
      "    1\n",
      "   </td>\n",
      "   <td align=\"left\">\n",
      "    <span class=\"flagicon\">\n",
      "     <span class=\"mw-image-border\" typeof=\"mw:File\">\n",
      "      <span>\n",
      "       <img alt=\"\" class=\"mw-file-element\" data-file-height=\"600\" data-file-width=\"900\" decoding=\"async\" height=\"15\" src=\"//upload.wikimedia.org/wikipedia/commons/thumb/4/48/Flag_of_Singapore.svg/23px-Flag_of_Singapore.svg.png\" srcset=\"//upload.wikimedia.org/wikipedia/commons/thumb/4/48/Flag_of_Singapore.svg/35px-Flag_of_Singapore.svg.png 1.5x, //upload.wikimedia.org/wikipedia/commons/thumb/4/48/Flag_of_Singapore.svg/45px-Flag_of_Singapore.svg.png 2x\" width=\"23\"/>\n",
      "      </span>\n",
      "     </span>\n",
      "    </span>\n",
      "    <a href=\"/wiki/Singapore\" title=\"Singapore\">\n",
      "     Singapore\n",
      "    </a>\n",
      "   </td>\n",
      "   <td>\n",
      "    5,921,231\n",
      "   </td>\n",
      "   <td>\n",
      "    719\n",
      "   </td>\n",
      "   <td>\n",
      "    8,235\n",
      "   </td>\n",
      "  </tr>\n",
      "  <tr>\n",
      "   <td>\n",
      "    2\n",
      "   </td>\n",
      "   <td align=\"left\">\n",
      "    <span class=\"flagicon\">\n",
      "     <span class=\"mw-image-border\" typeof=\"mw:File\">\n",
      "      <span>\n",
      "       <img alt=\"\" class=\"mw-file-element\" data-file-height=\"600\" data-file-width=\"1000\" decoding=\"async\" height=\"14\" src=\"//upload.wikimedia.org/wikipedia/commons/thumb/f/f9/Flag_of_Bangladesh.svg/23px-Flag_of_Bangladesh.svg.png\" srcset=\"//upload.wikimedia.org/wikipedia/commons/thumb/f/f9/Flag_of_Bangladesh.svg/35px-Flag_of_Bangladesh.svg.png 1.5x, //upload.wikimedia.org/wikipedia/commons/thumb/f/f9/Flag_of_Bangladesh.svg/46px-Flag_of_Bangladesh.svg.png 2x\" width=\"23\"/>\n",
      "      </span>\n",
      "     </span>\n",
      "    </span>\n",
      "    <a href=\"/wiki/Bangladesh\" title=\"Bangladesh\">\n",
      "     Bangladesh\n",
      "    </a>\n",
      "   </td>\n",
      "   <td>\n",
      "    165,650,475\n",
      "   </td>\n",
      "   <td>\n",
      "    148,460\n",
      "   </td>\n",
      "   <td>\n",
      "    1,116\n",
      "   </td>\n",
      "  </tr>\n",
      "  <tr>\n",
      "   <td>\n",
      "    3\n",
      "   </td>\n",
      "   <td align=\"left\">\n",
      "    <p>\n",
      "     <span class=\"flagicon\">\n",
      "      <span class=\"mw-image-border\" typeof=\"mw:File\">\n",
      "       <span>\n",
      "        <img alt=\"\" class=\"mw-file-element\" data-file-height=\"600\" data-file-width=\"1200\" decoding=\"async\" height=\"12\" src=\"//upload.wikimedia.org/wikipedia/commons/thumb/0/00/Flag_of_Palestine.svg/23px-Flag_of_Palestine.svg.png\" srcset=\"//upload.wikimedia.org/wikipedia/commons/thumb/0/00/Flag_of_Palestine.svg/35px-Flag_of_Palestine.svg.png 1.5x, //upload.wikimedia.org/wikipedia/commons/thumb/0/00/Flag_of_Palestine.svg/46px-Flag_of_Palestine.svg.png 2x\" width=\"23\"/>\n",
      "       </span>\n",
      "      </span>\n",
      "     </span>\n",
      "     <a href=\"/wiki/State_of_Palestine\" title=\"State of Palestine\">\n",
      "      Palestine\n",
      "     </a>\n",
      "     <sup class=\"reference\" id=\"cite_ref-107\">\n",
      "      <a href=\"#cite_note-107\">\n",
      "       [note 3]\n",
      "      </a>\n",
      "     </sup>\n",
      "     <sup class=\"reference\" id=\"cite_ref-108\">\n",
      "      <a href=\"#cite_note-108\">\n",
      "       [102]\n",
      "      </a>\n",
      "     </sup>\n",
      "    </p>\n",
      "   </td>\n",
      "   <td>\n",
      "    5,223,000\n",
      "   </td>\n",
      "   <td>\n",
      "    6,025\n",
      "   </td>\n",
      "   <td>\n",
      "    867\n",
      "   </td>\n",
      "  </tr>\n",
      "  <tr>\n",
      "   <td>\n",
      "    4\n",
      "   </td>\n",
      "   <td align=\"left\">\n",
      "    <span class=\"flagicon\">\n",
      "     <span class=\"mw-image-border\" typeof=\"mw:File\">\n",
      "      <span>\n",
      "       <img alt=\"\" class=\"mw-file-element\" data-file-height=\"600\" data-file-width=\"900\" decoding=\"async\" height=\"15\" src=\"//upload.wikimedia.org/wikipedia/commons/thumb/7/72/Flag_of_the_Republic_of_China.svg/23px-Flag_of_the_Republic_of_China.svg.png\" srcset=\"//upload.wikimedia.org/wikipedia/commons/thumb/7/72/Flag_of_the_Republic_of_China.svg/35px-Flag_of_the_Republic_of_China.svg.png 1.5x, //upload.wikimedia.org/wikipedia/commons/thumb/7/72/Flag_of_the_Republic_of_China.svg/45px-Flag_of_the_Republic_of_China.svg.png 2x\" width=\"23\"/>\n",
      "      </span>\n",
      "     </span>\n",
      "    </span>\n",
      "    <a href=\"/wiki/Taiwan\" title=\"Taiwan\">\n",
      "     Taiwan\n",
      "    </a>\n",
      "    <sup class=\"reference\" id=\"cite_ref-109\">\n",
      "     <a href=\"#cite_note-109\">\n",
      "      [note 4]\n",
      "     </a>\n",
      "    </sup>\n",
      "   </td>\n",
      "   <td>\n",
      "    23,580,712\n",
      "   </td>\n",
      "   <td>\n",
      "    35,980\n",
      "   </td>\n",
      "   <td>\n",
      "    655\n",
      "   </td>\n",
      "  </tr>\n",
      "  <tr>\n",
      "   <td>\n",
      "    5\n",
      "   </td>\n",
      "   <td align=\"left\">\n",
      "    <span class=\"flagicon\">\n",
      "     <span class=\"mw-image-border\" typeof=\"mw:File\">\n",
      "      <span>\n",
      "       <img alt=\"\" class=\"mw-file-element\" data-file-height=\"600\" data-file-width=\"900\" decoding=\"async\" height=\"15\" src=\"//upload.wikimedia.org/wikipedia/commons/thumb/0/09/Flag_of_South_Korea.svg/23px-Flag_of_South_Korea.svg.png\" srcset=\"//upload.wikimedia.org/wikipedia/commons/thumb/0/09/Flag_of_South_Korea.svg/35px-Flag_of_South_Korea.svg.png 1.5x, //upload.wikimedia.org/wikipedia/commons/thumb/0/09/Flag_of_South_Korea.svg/45px-Flag_of_South_Korea.svg.png 2x\" width=\"23\"/>\n",
      "      </span>\n",
      "     </span>\n",
      "    </span>\n",
      "    <a href=\"/wiki/South_Korea\" title=\"South Korea\">\n",
      "     South Korea\n",
      "    </a>\n",
      "   </td>\n",
      "   <td>\n",
      "    51,844,834\n",
      "   </td>\n",
      "   <td>\n",
      "    99,720\n",
      "   </td>\n",
      "   <td>\n",
      "    520\n",
      "   </td>\n",
      "  </tr>\n",
      "  <tr>\n",
      "   <td>\n",
      "    6\n",
      "   </td>\n",
      "   <td align=\"left\">\n",
      "    <span class=\"flagicon\">\n",
      "     <span class=\"mw-image-border\" typeof=\"mw:File\">\n",
      "      <span>\n",
      "       <img alt=\"\" class=\"mw-file-element\" data-file-height=\"600\" data-file-width=\"900\" decoding=\"async\" height=\"15\" src=\"//upload.wikimedia.org/wikipedia/commons/thumb/5/59/Flag_of_Lebanon.svg/23px-Flag_of_Lebanon.svg.png\" srcset=\"//upload.wikimedia.org/wikipedia/commons/thumb/5/59/Flag_of_Lebanon.svg/35px-Flag_of_Lebanon.svg.png 1.5x, //upload.wikimedia.org/wikipedia/commons/thumb/5/59/Flag_of_Lebanon.svg/45px-Flag_of_Lebanon.svg.png 2x\" width=\"23\"/>\n",
      "      </span>\n",
      "     </span>\n",
      "    </span>\n",
      "    <a href=\"/wiki/Lebanon\" title=\"Lebanon\">\n",
      "     Lebanon\n",
      "    </a>\n",
      "   </td>\n",
      "   <td>\n",
      "    5,296,814\n",
      "   </td>\n",
      "   <td>\n",
      "    10,400\n",
      "   </td>\n",
      "   <td>\n",
      "    509\n",
      "   </td>\n",
      "  </tr>\n",
      "  <tr>\n",
      "   <td>\n",
      "    7\n",
      "   </td>\n",
      "   <td align=\"left\">\n",
      "    <span class=\"flagicon\">\n",
      "     <span class=\"mw-image-border\" typeof=\"mw:File\">\n",
      "      <span>\n",
      "       <img alt=\"\" class=\"mw-file-element\" data-file-height=\"600\" data-file-width=\"900\" decoding=\"async\" height=\"15\" src=\"//upload.wikimedia.org/wikipedia/commons/thumb/1/17/Flag_of_Rwanda.svg/23px-Flag_of_Rwanda.svg.png\" srcset=\"//upload.wikimedia.org/wikipedia/commons/thumb/1/17/Flag_of_Rwanda.svg/35px-Flag_of_Rwanda.svg.png 1.5x, //upload.wikimedia.org/wikipedia/commons/thumb/1/17/Flag_of_Rwanda.svg/45px-Flag_of_Rwanda.svg.png 2x\" width=\"23\"/>\n",
      "      </span>\n",
      "     </span>\n",
      "    </span>\n",
      "    <a href=\"/wiki/Rwanda\" title=\"Rwanda\">\n",
      "     Rwanda\n",
      "    </a>\n",
      "   </td>\n",
      "   <td>\n",
      "    13,173,730\n",
      "   </td>\n",
      "   <td>\n",
      "    26,338\n",
      "   </td>\n",
      "   <td>\n",
      "    500\n",
      "   </td>\n",
      "  </tr>\n",
      "  <tr>\n",
      "   <td>\n",
      "    8\n",
      "   </td>\n",
      "   <td align=\"left\">\n",
      "    <span class=\"flagicon\">\n",
      "     <span class=\"mw-image-border\" typeof=\"mw:File\">\n",
      "      <span>\n",
      "       <img alt=\"\" class=\"mw-file-element\" data-file-height=\"600\" data-file-width=\"1000\" decoding=\"async\" height=\"14\" src=\"//upload.wikimedia.org/wikipedia/commons/thumb/5/50/Flag_of_Burundi.svg/23px-Flag_of_Burundi.svg.png\" srcset=\"//upload.wikimedia.org/wikipedia/commons/thumb/5/50/Flag_of_Burundi.svg/35px-Flag_of_Burundi.svg.png 1.5x, //upload.wikimedia.org/wikipedia/commons/thumb/5/50/Flag_of_Burundi.svg/46px-Flag_of_Burundi.svg.png 2x\" width=\"23\"/>\n",
      "      </span>\n",
      "     </span>\n",
      "    </span>\n",
      "    <a href=\"/wiki/Burundi\" title=\"Burundi\">\n",
      "     Burundi\n",
      "    </a>\n",
      "   </td>\n",
      "   <td>\n",
      "    12,696,478\n",
      "   </td>\n",
      "   <td>\n",
      "    27,830\n",
      "   </td>\n",
      "   <td>\n",
      "    456\n",
      "   </td>\n",
      "  </tr>\n",
      "  <tr>\n",
      "   <td>\n",
      "    9\n",
      "   </td>\n",
      "   <td align=\"left\">\n",
      "    <span class=\"flagicon\">\n",
      "     <span class=\"mw-image-border\" typeof=\"mw:File\">\n",
      "      <span>\n",
      "       <img alt=\"\" class=\"mw-file-element\" data-file-height=\"600\" data-file-width=\"900\" decoding=\"async\" height=\"15\" src=\"//upload.wikimedia.org/wikipedia/en/thumb/4/41/Flag_of_India.svg/23px-Flag_of_India.svg.png\" srcset=\"//upload.wikimedia.org/wikipedia/en/thumb/4/41/Flag_of_India.svg/35px-Flag_of_India.svg.png 1.5x, //upload.wikimedia.org/wikipedia/en/thumb/4/41/Flag_of_India.svg/45px-Flag_of_India.svg.png 2x\" width=\"23\"/>\n",
      "      </span>\n",
      "     </span>\n",
      "    </span>\n",
      "    <a href=\"/wiki/India\" title=\"India\">\n",
      "     India\n",
      "    </a>\n",
      "   </td>\n",
      "   <td>\n",
      "    1,389,637,446\n",
      "   </td>\n",
      "   <td>\n",
      "    3,287,263\n",
      "   </td>\n",
      "   <td>\n",
      "    423\n",
      "   </td>\n",
      "  </tr>\n",
      "  <tr>\n",
      "   <td>\n",
      "    10\n",
      "   </td>\n",
      "   <td align=\"left\">\n",
      "    <span class=\"flagicon\">\n",
      "     <span class=\"mw-image-border\" typeof=\"mw:File\">\n",
      "      <span>\n",
      "       <img alt=\"\" class=\"mw-file-element\" data-file-height=\"600\" data-file-width=\"900\" decoding=\"async\" height=\"15\" src=\"//upload.wikimedia.org/wikipedia/commons/thumb/2/20/Flag_of_the_Netherlands.svg/23px-Flag_of_the_Netherlands.svg.png\" srcset=\"//upload.wikimedia.org/wikipedia/commons/thumb/2/20/Flag_of_the_Netherlands.svg/35px-Flag_of_the_Netherlands.svg.png 1.5x, //upload.wikimedia.org/wikipedia/commons/thumb/2/20/Flag_of_the_Netherlands.svg/45px-Flag_of_the_Netherlands.svg.png 2x\" width=\"23\"/>\n",
      "      </span>\n",
      "     </span>\n",
      "    </span>\n",
      "    <a href=\"/wiki/Netherlands\" title=\"Netherlands\">\n",
      "     Netherlands\n",
      "    </a>\n",
      "   </td>\n",
      "   <td>\n",
      "    17,400,824\n",
      "   </td>\n",
      "   <td>\n",
      "    41,543\n",
      "   </td>\n",
      "   <td>\n",
      "    419\n",
      "   </td>\n",
      "  </tr>\n",
      " </tbody>\n",
      "</table>\n",
      "\n"
     ]
    }
   ],
   "source": [
    "print(tables[table_index].prettify())"
   ]
  },
  {
   "cell_type": "code",
   "execution_count": 84,
   "id": "2174f322-4407-4fc5-bafd-89f1ee0ad222",
   "metadata": {},
   "outputs": [
    {
     "data": {
      "text/html": [
       "<div>\n",
       "<style scoped>\n",
       "    .dataframe tbody tr th:only-of-type {\n",
       "        vertical-align: middle;\n",
       "    }\n",
       "\n",
       "    .dataframe tbody tr th {\n",
       "        vertical-align: top;\n",
       "    }\n",
       "\n",
       "    .dataframe thead th {\n",
       "        text-align: right;\n",
       "    }\n",
       "</style>\n",
       "<table border=\"1\" class=\"dataframe\">\n",
       "  <thead>\n",
       "    <tr style=\"text-align: right;\">\n",
       "      <th></th>\n",
       "      <th>Rank</th>\n",
       "      <th>Country</th>\n",
       "      <th>Population</th>\n",
       "      <th>Area</th>\n",
       "      <th>Density</th>\n",
       "    </tr>\n",
       "  </thead>\n",
       "  <tbody>\n",
       "    <tr>\n",
       "      <th>0</th>\n",
       "      <td>1</td>\n",
       "      <td>Singapore</td>\n",
       "      <td>5,921,231</td>\n",
       "      <td>719</td>\n",
       "      <td>8,235</td>\n",
       "    </tr>\n",
       "    <tr>\n",
       "      <th>1</th>\n",
       "      <td>2</td>\n",
       "      <td>Bangladesh</td>\n",
       "      <td>165,650,475</td>\n",
       "      <td>148,460</td>\n",
       "      <td>1,116</td>\n",
       "    </tr>\n",
       "    <tr>\n",
       "      <th>2</th>\n",
       "      <td>3</td>\n",
       "      <td>\\n Palestine[note 3][102]\\n\\n</td>\n",
       "      <td>5,223,000</td>\n",
       "      <td>6,025</td>\n",
       "      <td>867</td>\n",
       "    </tr>\n",
       "    <tr>\n",
       "      <th>3</th>\n",
       "      <td>4</td>\n",
       "      <td>Taiwan[note 4]</td>\n",
       "      <td>23,580,712</td>\n",
       "      <td>35,980</td>\n",
       "      <td>655</td>\n",
       "    </tr>\n",
       "    <tr>\n",
       "      <th>4</th>\n",
       "      <td>5</td>\n",
       "      <td>South Korea</td>\n",
       "      <td>51,844,834</td>\n",
       "      <td>99,720</td>\n",
       "      <td>520</td>\n",
       "    </tr>\n",
       "    <tr>\n",
       "      <th>5</th>\n",
       "      <td>6</td>\n",
       "      <td>Lebanon</td>\n",
       "      <td>5,296,814</td>\n",
       "      <td>10,400</td>\n",
       "      <td>509</td>\n",
       "    </tr>\n",
       "    <tr>\n",
       "      <th>6</th>\n",
       "      <td>7</td>\n",
       "      <td>Rwanda</td>\n",
       "      <td>13,173,730</td>\n",
       "      <td>26,338</td>\n",
       "      <td>500</td>\n",
       "    </tr>\n",
       "    <tr>\n",
       "      <th>7</th>\n",
       "      <td>8</td>\n",
       "      <td>Burundi</td>\n",
       "      <td>12,696,478</td>\n",
       "      <td>27,830</td>\n",
       "      <td>456</td>\n",
       "    </tr>\n",
       "    <tr>\n",
       "      <th>8</th>\n",
       "      <td>9</td>\n",
       "      <td>India</td>\n",
       "      <td>1,389,637,446</td>\n",
       "      <td>3,287,263</td>\n",
       "      <td>423</td>\n",
       "    </tr>\n",
       "    <tr>\n",
       "      <th>9</th>\n",
       "      <td>10</td>\n",
       "      <td>Netherlands</td>\n",
       "      <td>17,400,824</td>\n",
       "      <td>41,543</td>\n",
       "      <td>419</td>\n",
       "    </tr>\n",
       "  </tbody>\n",
       "</table>\n",
       "</div>"
      ],
      "text/plain": [
       "  Rank                        Country     Population       Area Density\n",
       "0    1                      Singapore      5,921,231        719   8,235\n",
       "1    2                     Bangladesh    165,650,475    148,460   1,116\n",
       "2    3  \\n Palestine[note 3][102]\\n\\n      5,223,000      6,025     867\n",
       "3    4                 Taiwan[note 4]     23,580,712     35,980     655\n",
       "4    5                    South Korea     51,844,834     99,720     520\n",
       "5    6                        Lebanon      5,296,814     10,400     509\n",
       "6    7                         Rwanda     13,173,730     26,338     500\n",
       "7    8                        Burundi     12,696,478     27,830     456\n",
       "8    9                          India  1,389,637,446  3,287,263     423\n",
       "9   10                    Netherlands     17,400,824     41,543     419"
      ]
     },
     "execution_count": 84,
     "metadata": {},
     "output_type": "execute_result"
    }
   ],
   "source": [
    "population_data = pd.DataFrame(columns=[\"Rank\", \"Country\", \"Population\", \"Area\", \"Density\"])\n",
    "data=[]\n",
    "for row in tables[table_index].tbody.find_all(\"tr\"):\n",
    "    col = row.find_all(\"td\")\n",
    "    if (col != []):\n",
    "        rank = col[0].text\n",
    "        country = col[1].text\n",
    "        population = col[2].text.strip()\n",
    "        area = col[3].text.strip()\n",
    "        density = col[4].text.strip()\n",
    "        data.append({\"Rank\":rank, \"Country\":country, \"Population\":population, \"Area\":area, \"Density\":density})\n",
    "        population_data = pd.DataFrame(data)\n",
    "population_data"
   ]
  },
  {
   "cell_type": "code",
   "execution_count": null,
   "id": "472898b7-e71c-4973-9666-b2c823953076",
   "metadata": {},
   "outputs": [],
   "source": []
  }
 ],
 "metadata": {
  "kernelspec": {
   "display_name": "Python 3 (ipykernel)",
   "language": "python",
   "name": "python3"
  },
  "language_info": {
   "codemirror_mode": {
    "name": "ipython",
    "version": 3
   },
   "file_extension": ".py",
   "mimetype": "text/x-python",
   "name": "python",
   "nbconvert_exporter": "python",
   "pygments_lexer": "ipython3",
   "version": "3.11.4"
  }
 },
 "nbformat": 4,
 "nbformat_minor": 5
}
